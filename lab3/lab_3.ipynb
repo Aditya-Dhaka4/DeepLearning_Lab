{
  "nbformat": 4,
  "nbformat_minor": 0,
  "metadata": {
    "colab": {
      "provenance": []
    },
    "kernelspec": {
      "name": "python3",
      "display_name": "Python 3"
    },
    "language_info": {
      "name": "python"
    }
  },
  "cells": [
    {
      "cell_type": "markdown",
      "source": [
        "# **Performing Gradient Descent in Regression.**"
      ],
      "metadata": {
        "id": "fukqIXjsqNnM"
      }
    },
    {
      "cell_type": "code",
      "execution_count": 8,
      "metadata": {
        "id": "GUx6Er1EnK-s"
      },
      "outputs": [],
      "source": [
        "import warnings\n",
        "warnings.filterwarnings('ignore')\n",
        "import random\n",
        "import math\n",
        "import numpy as np\n",
        "from matplotlib import pyplot as plt\n",
        "%matplotlib inline\n",
        "import numpy as np"
      ]
    },
    {
      "cell_type": "markdown",
      "source": [
        "preparing dataset. Random data points of 500 x 2"
      ],
      "metadata": {
        "id": "4i3W017RqUlC"
      }
    },
    {
      "cell_type": "code",
      "source": [
        "data = np.random.randn(500, 2)"
      ],
      "metadata": {
        "id": "IjBxtWwXnk2l"
      },
      "execution_count": 9,
      "outputs": []
    },
    {
      "cell_type": "code",
      "source": [
        "data[0]\n"
      ],
      "metadata": {
        "colab": {
          "base_uri": "https://localhost:8080/"
        },
        "id": "4PdtSbwonoRE",
        "outputId": "386bf76c-fed4-4085-f68a-dd8887c3b697"
      },
      "execution_count": 17,
      "outputs": [
        {
          "output_type": "execute_result",
          "data": {
            "text/plain": [
              "array([1.47461802, 1.11325458])"
            ]
          },
          "metadata": {},
          "execution_count": 17
        }
      ]
    },
    {
      "cell_type": "code",
      "source": [
        "data[0,0]"
      ],
      "metadata": {
        "colab": {
          "base_uri": "https://localhost:8080/"
        },
        "id": "TrEMj5kxn61p",
        "outputId": "861f8006-6999-4786-fef3-5a606bd6c884"
      },
      "execution_count": 19,
      "outputs": [
        {
          "output_type": "execute_result",
          "data": {
            "text/plain": [
              "np.float64(1.4746180228343042)"
            ]
          },
          "metadata": {},
          "execution_count": 19
        }
      ]
    },
    {
      "cell_type": "code",
      "source": [
        "(data[0,1])\n"
      ],
      "metadata": {
        "colab": {
          "base_uri": "https://localhost:8080/"
        },
        "id": "m4tOaGQWoVQ7",
        "outputId": "cac542d0-6be2-4598-93e5-73ba0f5b9107"
      },
      "execution_count": 20,
      "outputs": [
        {
          "output_type": "execute_result",
          "data": {
            "text/plain": [
              "np.float64(1.1132545767888096)"
            ]
          },
          "metadata": {},
          "execution_count": 20
        }
      ]
    },
    {
      "cell_type": "code",
      "source": [
        "theta=np.zeros(2)"
      ],
      "metadata": {
        "id": "vQ0E-j3BpDpk"
      },
      "execution_count": 22,
      "outputs": []
    },
    {
      "cell_type": "code",
      "source": [
        "theta"
      ],
      "metadata": {
        "colab": {
          "base_uri": "https://localhost:8080/"
        },
        "id": "BTq5LCoOpFQP",
        "outputId": "14e0c1b8-ffe3-4fd2-f59a-089e101b1a7d"
      },
      "execution_count": 23,
      "outputs": [
        {
          "output_type": "execute_result",
          "data": {
            "text/plain": [
              "array([0., 0.])"
            ]
          },
          "metadata": {},
          "execution_count": 23
        }
      ]
    },
    {
      "cell_type": "markdown",
      "source": [
        "**Loss Function**"
      ],
      "metadata": {
        "id": "Oi0a9u4Iqgzq"
      }
    },
    {
      "cell_type": "code",
      "source": [
        "def loss_function(data,theta):\n",
        "\n",
        "    #get m and b\n",
        "    m = theta[0]\n",
        "    b = theta[1]\n",
        "\n",
        "    loss = 0\n",
        "\n",
        "    #for each iteration\n",
        "    for i in range(0, len(data)):\n",
        "\n",
        "        #get x and y\n",
        "        x = data[i, 0]\n",
        "        y = data[i, 1]\n",
        "\n",
        "        #predict the value of y\n",
        "        y_hat = (m*x + b)\n",
        "\n",
        "        #compute loss as given in quation (2)\n",
        "        loss = loss + ((y - (y_hat)) ** 2)\n",
        "\n",
        "    #mean sqaured error\n",
        "    mse = loss / float(len(data))\n",
        "\n",
        "    return mse"
      ],
      "metadata": {
        "id": "FKZnF_k4p24O"
      },
      "execution_count": 24,
      "outputs": []
    },
    {
      "cell_type": "code",
      "source": [
        "loss_function(data, theta)"
      ],
      "metadata": {
        "colab": {
          "base_uri": "https://localhost:8080/"
        },
        "id": "imVwyCj6qoWE",
        "outputId": "7c1ca942-68cf-4414-aacb-4a4697f60d85"
      },
      "execution_count": 25,
      "outputs": [
        {
          "output_type": "execute_result",
          "data": {
            "text/plain": [
              "np.float64(0.9550306709023125)"
            ]
          },
          "metadata": {},
          "execution_count": 25
        }
      ]
    },
    {
      "cell_type": "markdown",
      "source": [
        "**Gradient of Loss function**"
      ],
      "metadata": {
        "id": "pgmG6GcIqszu"
      }
    },
    {
      "cell_type": "code",
      "source": [
        "def compute_gradients(data, theta):\n",
        "\n",
        "    gradients = np.zeros(2)\n",
        "\n",
        "    #total number of data points\n",
        "    N = float(len(data))\n",
        "\n",
        "    m = theta[0]\n",
        "    b = theta[1]\n",
        "\n",
        "    #for each data point\n",
        "    for i in range(len(data)):\n",
        "        x = data[i, 0]\n",
        "        y = data[i, 1]\n",
        "\n",
        "        #gradient of loss function with respect to m as given in (3)\n",
        "        gradients[0] += - (2 / N) * x * (y - (( m* x) + b))\n",
        "\n",
        "        #gradient of loss funcction with respect to b as given in (4)\n",
        "        gradients[1] += - (2 / N) * (y - ((theta[0] * x) + b))\n",
        "\n",
        "    #add epsilon to avoid division by zero error\n",
        "    epsilon = 1e-6\n",
        "    gradients = np.divide(gradients, N + epsilon)\n",
        "\n",
        "    return gradients"
      ],
      "metadata": {
        "id": "JpbyvK5qqxHW"
      },
      "execution_count": 26,
      "outputs": []
    },
    {
      "cell_type": "code",
      "source": [
        "compute_gradients(data,theta)\n"
      ],
      "metadata": {
        "colab": {
          "base_uri": "https://localhost:8080/"
        },
        "id": "2i_nTohoqzs8",
        "outputId": "cab2b1cf-568b-45b9-c61d-a6cd895877bc"
      },
      "execution_count": 28,
      "outputs": [
        {
          "output_type": "execute_result",
          "data": {
            "text/plain": [
              "array([ 0.00020378, -0.00031041])"
            ]
          },
          "metadata": {},
          "execution_count": 28
        }
      ]
    },
    {
      "cell_type": "code",
      "source": [
        "num_iterations=50000"
      ],
      "metadata": {
        "id": "bgjz-Y7Bq1o3"
      },
      "execution_count": 29,
      "outputs": []
    },
    {
      "cell_type": "code",
      "source": [
        "#Learning rate\n",
        "lr=1e-2"
      ],
      "metadata": {
        "id": "ahKXVQEOq_jB"
      },
      "execution_count": 30,
      "outputs": []
    },
    {
      "cell_type": "markdown",
      "source": [
        "Define a list called loss for storing the loss on every iterations: On each iteration, calculate gradients and update the gradients according to our paramater update rule:\n",
        "\n"
      ],
      "metadata": {
        "id": "qIHZ0D37rGbd"
      }
    },
    {
      "cell_type": "code",
      "source": [
        "loss=[]"
      ],
      "metadata": {
        "id": "tpeiMG7mrDp4"
      },
      "execution_count": 31,
      "outputs": []
    },
    {
      "cell_type": "code",
      "source": [
        "theta = np.zeros(2)\n",
        "\n",
        "for t in range(num_iterations):\n",
        "\n",
        "    #compute gradients\n",
        "    gradients = compute_gradients(data, theta)\n",
        "\n",
        "    #update parameter\n",
        "    theta = theta - (lr*gradients)\n",
        "\n",
        "    #store the loss\n",
        "    loss.append(loss_function(data,theta))\n",
        ""
      ],
      "metadata": {
        "id": "dUayo4GPrIOm"
      },
      "execution_count": 32,
      "outputs": []
    },
    {
      "cell_type": "code",
      "source": [
        "plt.plot(loss)\n",
        "plt.grid()\n",
        "plt.xlabel('Training Iterations')\n",
        "plt.ylabel('Cost')\n",
        "plt.title('Gradient Descent')"
      ],
      "metadata": {
        "colab": {
          "base_uri": "https://localhost:8080/",
          "height": 489
        },
        "id": "Pb7UCXIurKoL",
        "outputId": "6452fac5-3605-407c-adad-72c4aa3fe349"
      },
      "execution_count": 33,
      "outputs": [
        {
          "output_type": "execute_result",
          "data": {
            "text/plain": [
              "Text(0.5, 1.0, 'Gradient Descent')"
            ]
          },
          "metadata": {},
          "execution_count": 33
        },
        {
          "output_type": "display_data",
          "data": {
            "text/plain": [
              "<Figure size 640x480 with 1 Axes>"
            ],
            "image/png": "[encoded data removed]"
          },
          "metadata": {}
        }
      ]
    },
    {
      "cell_type": "markdown",
      "source": [
        "#**Gradient descent versus stochastic gradient descent**"
      ],
      "metadata": {
        "id": "BLj7Z08wrkXF"
      }
    },
    {
      "cell_type": "code",
      "source": [
        "import numpy as np\n",
        "import random\n",
        "import math\n",
        "\n",
        "def minibatch(data, theta, lr=1e-2, minibatch_ratio=0.01, num_iterations=1000):\n",
        "    \"\"\"\n",
        "    Performs mini-batch gradient descent on the given data.\n",
        "\n",
        "    Parameters:\n",
        "    data: numpy array of shape (n_samples, n_features + 1) where the last column is the target\n",
        "    theta: numpy array of shape (n_features, 1) - model parameters\n",
        "    lr: learning rate (default: 0.01)\n",
        "    minibatch_ratio: ratio of data to use in each mini-batch (default: 0.01)\n",
        "    num_iterations: number of iterations to perform (default: 1000)\n",
        "\n",
        "    Returns:\n",
        "    theta: updated model parameters\n",
        "    \"\"\"\n",
        "    # Calculate mini-batch size\n",
        "    minibatch_size = int(math.ceil(len(data) * minibatch_ratio))\n",
        "\n",
        "    # Perform gradient descent for the specified number of iterations\n",
        "    for t in range(num_iterations):\n",
        "        # Randomly select indices for the mini-batch\n",
        "        sample_indices = random.sample(range(len(data)), minibatch_size)\n",
        "\n",
        "        # Sample the data based on the selected indices\n",
        "        sample_data = data[sample_indices, :]\n",
        "\n",
        "        # Compute gradients for the sampled data\n",
        "        grad = compute_gradients(sample_data, theta)\n",
        "\n",
        "        # Update model parameters\n",
        "        theta = theta - (lr * grad)\n",
        "\n",
        "    return theta\n",
        "\n",
        "def compute_gradients(data, theta):\n",
        "    \"\"\"\n",
        "    Computes the gradients of the loss function with respect to theta.\n",
        "\n",
        "    Parameters:\n",
        "    data: numpy array of shape (n_samples, n_features + 1) where the last column is the target\n",
        "    theta: numpy array of shape (n_features, 1) - model parameters\n",
        "\n",
        "    Returns:\n",
        "    gradients: numpy array of shape (n_features, 1)\n",
        "    \"\"\"\n",
        "    # Separate features and target\n",
        "    X = data[:, :-1]\n",
        "    y = data[:, -1].reshape(-1, 1)\n",
        "\n",
        "    # Number of samples\n",
        "    m = X.shape[0]\n",
        "\n",
        "    # Compute predictions\n",
        "    predictions = X @ theta\n",
        "\n",
        "    # Compute error\n",
        "    error = predictions - y\n",
        "\n",
        "    # Compute gradients (for mean squared error)\n",
        "    gradients = (1/m) * (X.T @ error)\n",
        "\n",
        "    return gradients\n"
      ],
      "metadata": {
        "id": "ocpCTwizsYUo"
      },
      "execution_count": 37,
      "outputs": []
    },
    {
      "cell_type": "code",
      "source": [
        "# Example usage\n",
        "# Generate some random data\n",
        "n_samples = 1000\n",
        "n_features = 5\n",
        "X = np.random.randn(n_samples, n_features)\n",
        "true_theta = np.random.randn(n_features, 1)\n",
        "y = X @ true_theta + 0.1 * np.random.randn(n_samples, 1)\n",
        "\n",
        "# Combine features and target\n",
        "data = np.hstack((X, y))\n",
        "\n",
        "# Initialize theta\n",
        "initial_theta = np.zeros((n_features, 1))\n",
        "\n",
        "# Run mini-batch gradient descent\n",
        "optimized_theta = minibatch(data, initial_theta, lr=0.01, minibatch_ratio=0.1, num_iterations=1000)\n",
        "\n",
        "print(\"True theta:\", true_theta.flatten())\n",
        "print(\"Optimized theta:\", optimized_theta.flatten())\n"
      ],
      "metadata": {
        "colab": {
          "base_uri": "https://localhost:8080/"
        },
        "id": "5UgWR3CNtHvj",
        "outputId": "e970b0f9-2a10-461a-9e99-39e56078d34e"
      },
      "execution_count": 38,
      "outputs": [
        {
          "output_type": "stream",
          "name": "stdout",
          "text": [
            "True theta: [ 0.27806592 -0.38708071 -0.78068821 -1.3918178  -0.54505763]\n",
            "Optimized theta: [ 0.27655312 -0.38890837 -0.77665678 -1.39445517 -0.5484201 ]\n"
          ]
        }
      ]
    },
    {
      "cell_type": "markdown",
      "source": [
        "# **Momentum-based gradient descent**"
      ],
      "metadata": {
        "id": "kMVGyXS3tQUc"
      }
    },
    {
      "cell_type": "code",
      "source": [
        "import numpy as np\n",
        "\n",
        "def momentum(data, theta, lr=1e-2, gamma=0.9, num_iterations=1000):\n",
        "    velocity = np.zeros_like(theta)\n",
        "\n",
        "    for i in range(num_iterations):\n",
        "        grad = compute_gradient(data, theta)  # You need to define this separately\n",
        "        velocity = gamma * velocity + lr * grad\n",
        "        theta -= velocity\n",
        "\n",
        "    return theta\n"
      ],
      "metadata": {
        "id": "YSP8zGvTtP-Q"
      },
      "execution_count": 40,
      "outputs": []
    },
    {
      "cell_type": "code",
      "source": [],
      "metadata": {
        "id": "UleICL77tLwn"
      },
      "execution_count": null,
      "outputs": []
    }
  ]
}