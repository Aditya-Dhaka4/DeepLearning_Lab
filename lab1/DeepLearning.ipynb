{
  "nbformat": 4,
  "nbformat_minor": 0,
  "metadata": {
    "colab": {
      "provenance": []
    },
    "kernelspec": {
      "name": "python3",
      "display_name": "Python 3"
    },
    "language_info": {
      "name": "python"
    }
  },
  "cells": [
    {
      "cell_type": "markdown",
      "source": [
        "# **- Introduction to Deep Learning**\n",
        "\n",
        "Deep learning is just a modern name for artificial neural networks (ANN) with many layers. What is deep in deep learning though? It is basically due to the structure of the ANN. ANN consists of some n number of layers to perform any computation. We can build an ANN with several layers where each layer is responsible for learning the intricate patterns in the data. Due to the computational advancements, we can build a network even with 100s or 1000s of layers deep. Since the ANN uses deep layers to perform learning we call it as deep learning and when ANN uses deep layers to learn we call it as a deep network.\n",
        "\n",
        "# **-ANN and its layers**\n",
        "\n",
        "\n",
        "A typical ANN consists of the following layers:\n",
        "\n",
        "-Input layer\n",
        "\n",
        "-Hidden layer\n",
        "\n",
        "-Output layer\n",
        "\n",
        "Each layer has a collection of neurons, and the neurons in one layer interact with all the neurons in the other layers. However, neurons in the same layer will not interact with one another. This is simply because neurons from the adjacent layers have connections or edges between them; however, neurons in the same layer do not have any connections. We use the term nodes or units to represent the neurons in the artificial neural network.\n",
        "\n",
        "**Input layer**\n",
        "\n",
        "The input layer is where we feed input to the network. The number of neurons in the input layer is the number of inputs we feed to the network. Each input will have some influence on predicting the output. However, no computation is performed in the input layer; it is just used for passing information from the outside world to the network.\n",
        "\n",
        "**Hidden layer**\n",
        "\n",
        "Any layer between the input layer and the output layer is called a hidden layer. It processes the input received from the input layer. The hidden layer is responsible for deriving complex relationships between input and output. That is, the hidden layer identifies the pattern in the dataset. It is majorly responsible for learning the data representation and for extracting the features.\n",
        "There can be any number of hidden layers; however, we have to choose a number of hidden layers according to our use case. For a very simple problem, we can just use one hidden layer, but while performing complex tasks such as image recognition, we use many hidden layers, where each layer is responsible for extracting important features. The network is called a deep neural network when we have many hidden layers.\n",
        "\n",
        "**Output layer**\n",
        "\n",
        "After processing the input, the hidden layer sends its result to the output layer. As the name suggests, the output layer emits the output. The number of neurons in the output layer is based on the type of problem we want our network to solve. If it is a binary classification, then the number of neurons in the output layer is one that tells us which class the input belongs to. If it is a multi-class classification say, with five classes, and if we want to get the probability of each class as an output, then the number of neurons in the output layer is five, each emitting the probability. If it is a regression problem, then we have one neuron in the output layer.\n",
        "\n",
        "\n",
        "\n",
        "\n",
        "\n",
        "\n",
        "\n"
      ],
      "metadata": {
        "id": "Th5lLdmbPBiK"
      }
    },
    {
      "cell_type": "markdown",
      "source": [
        "# **Building Neural Network from Scratch**"
      ],
      "metadata": {
        "id": "Wfn1EN3yQ9Y9"
      }
    },
    {
      "cell_type": "markdown",
      "source": [
        "First, import the libraries"
      ],
      "metadata": {
        "id": "lV06EpzjQ3dO"
      }
    },
    {
      "cell_type": "code",
      "source": [
        "import numpy as np\n",
        "import matplotlib.pyplot as plt\n",
        "%matplotlib inline"
      ],
      "metadata": {
        "id": "SMgRMLZKQ66q"
      },
      "execution_count": 9,
      "outputs": []
    },
    {
      "cell_type": "markdown",
      "source": [
        "Prepare the data as shown in the above XOR table:"
      ],
      "metadata": {
        "id": "5iPrq-dxRNX2"
      }
    },
    {
      "cell_type": "code",
      "source": [
        "x = np.array([ [0, 1], [1, 0], [1, 1],[0, 0] ])\n",
        "y = np.array([ [1], [1], [0], [0]])"
      ],
      "metadata": {
        "id": "hrbqORDpRKOj"
      },
      "execution_count": 10,
      "outputs": []
    },
    {
      "cell_type": "markdown",
      "source": [
        "Define the number of nodes in each layer:"
      ],
      "metadata": {
        "id": "jrwo61LmR3PX"
      }
    },
    {
      "cell_type": "code",
      "source": [
        "num_input = 2\n",
        "num_hidden = 5\n",
        "num_output = 1"
      ],
      "metadata": {
        "id": "BEunbrcVRQx2"
      },
      "execution_count": 11,
      "outputs": []
    },
    {
      "cell_type": "markdown",
      "source": [
        "Initialize weights and bias randomly. First, we initialize, input to hidden layer weights:"
      ],
      "metadata": {
        "id": "1n3rFsrsR5z3"
      }
    },
    {
      "cell_type": "code",
      "source": [
        "Wxh = np.random.randn(num_input,num_hidden)\n",
        "bh = np.zeros((1,num_hidden))"
      ],
      "metadata": {
        "id": "lCpTSf4LRU1H"
      },
      "execution_count": 12,
      "outputs": []
    },
    {
      "cell_type": "markdown",
      "source": [
        "Now initialize, hidden to output layer weights:"
      ],
      "metadata": {
        "id": "e_BsFxcLSKAU"
      }
    },
    {
      "cell_type": "code",
      "source": [
        "Why = np.random.randn (num_hidden,num_output)\n",
        "by = np.zeros((1,num_output))"
      ],
      "metadata": {
        "id": "Nq1SdQ3NRWTP"
      },
      "execution_count": 13,
      "outputs": []
    },
    {
      "cell_type": "markdown",
      "source": [
        "Define the sigmoid activation function:"
      ],
      "metadata": {
        "id": "teJz_bHvSMFz"
      }
    },
    {
      "cell_type": "code",
      "source": [
        "def sigmoid(z):\n",
        "    return 1 / (1+np.exp(-z))"
      ],
      "metadata": {
        "id": "u0TRRDZXRgdw"
      },
      "execution_count": 14,
      "outputs": []
    },
    {
      "cell_type": "markdown",
      "source": [
        "Define the derivative of the sigmoid function:"
      ],
      "metadata": {
        "id": "Myag9bXYSQIM"
      }
    },
    {
      "cell_type": "code",
      "source": [
        "def sigmoid_derivative(z):\n",
        "    return np.exp(-z)/((1+np.exp(-z))**2)"
      ],
      "metadata": {
        "id": "h9E4R3kNRiIt"
      },
      "execution_count": 15,
      "outputs": []
    },
    {
      "cell_type": "markdown",
      "source": [
        "Define the forward propagation:"
      ],
      "metadata": {
        "id": "IRkfo8ULSUDV"
      }
    },
    {
      "cell_type": "code",
      "source": [
        "def forward_prop(x,Wxh,Why):\n",
        "    z1 = np.dot(x,Wxh) + bh\n",
        "    a1 = sigmoid(z1)\n",
        "    z2 = np.dot(a1,Why) + by\n",
        "    y_hat = sigmoid(z2)\n",
        "\n",
        "    return z1,a1,z2,y_hat"
      ],
      "metadata": {
        "id": "K4CN8DAvRjiz"
      },
      "execution_count": 16,
      "outputs": []
    },
    {
      "cell_type": "markdown",
      "source": [
        "Define the backward propagation:"
      ],
      "metadata": {
        "id": "H5sTeU0hSYHG"
      }
    },
    {
      "cell_type": "code",
      "source": [
        "def backword_prop(y_hat, z1, a1, z2):\n",
        "    delta2 = np.multiply(-(y-y_hat),sigmoid_derivative(z2))\n",
        "    dJ_dWhy = np.dot(a1.T, delta2)\n",
        "    delta1 = np.dot(delta2,Why.T)*sigmoid_derivative(z1)\n",
        "    dJ_dWxh = np.dot(x.T, delta1)\n",
        "\n",
        "    return dJ_dWxh, dJ_dWhy"
      ],
      "metadata": {
        "id": "o0XXbtNKRl9O"
      },
      "execution_count": 17,
      "outputs": []
    },
    {
      "cell_type": "markdown",
      "source": [
        "\n",
        "Define the cost function:"
      ],
      "metadata": {
        "id": "JfmPFI8OSZ9L"
      }
    },
    {
      "cell_type": "code",
      "source": [
        "def cost_function(y, y_hat):\n",
        "    J = 0.5*sum((y-y_hat)**2)\n",
        "\n",
        "    return J"
      ],
      "metadata": {
        "id": "SxOwaWxgRnoP"
      },
      "execution_count": 18,
      "outputs": []
    },
    {
      "cell_type": "markdown",
      "source": [
        "Set the learning rate and number of training iterations:"
      ],
      "metadata": {
        "id": "EKaUuKORSb6d"
      }
    },
    {
      "cell_type": "code",
      "source": [
        "alpha = 0.01\n",
        "num_iterations = 5000"
      ],
      "metadata": {
        "id": "dDLiM6IDRpM7"
      },
      "execution_count": 19,
      "outputs": []
    },
    {
      "cell_type": "markdown",
      "source": [
        "Now let's start training the network:"
      ],
      "metadata": {
        "id": "okgbO7YgSf_Z"
      }
    },
    {
      "cell_type": "code",
      "source": [
        "cost = []\n",
        "for i in range(num_iterations):\n",
        "\n",
        "    #perform forward propagation and predict output\n",
        "    z1,a1,z2,y_hat = forward_prop(x,Wxh,Why)\n",
        "\n",
        "    #perform backward propagation and calculate gradients\n",
        "    dJ_dWxh, dJ_dWhy = backword_prop(y_hat, z1, a1, z2)\n",
        "\n",
        "    #update the weights\n",
        "    Wxh = Wxh -alpha * dJ_dWxh\n",
        "    Why = Why -alpha * dJ_dWhy\n",
        "\n",
        "    #compute cost\n",
        "    c = cost_function(y, y_hat)\n",
        "\n",
        "    #store the cost\n",
        "    cost.append(c)"
      ],
      "metadata": {
        "id": "33-V8layRq5E"
      },
      "execution_count": 20,
      "outputs": []
    },
    {
      "cell_type": "markdown",
      "source": [
        "Plot the cost function:"
      ],
      "metadata": {
        "id": "ob8RC1kkShdT"
      }
    },
    {
      "cell_type": "code",
      "source": [
        "plt.grid()\n",
        "plt.plot(range(num_iterations),cost)\n",
        "\n",
        "plt.title('Cost Function')\n",
        "plt.xlabel('Training Iterations')\n",
        "plt.ylabel('Cost')"
      ],
      "metadata": {
        "colab": {
          "base_uri": "https://localhost:8080/",
          "height": 489
        },
        "id": "5HCexNnERsk0",
        "outputId": "45e45e4a-4efa-4ae7-bcf0-61fd732ff4dd"
      },
      "execution_count": 21,
      "outputs": [
        {
          "output_type": "execute_result",
          "data": {
            "text/plain": [
              "Text(0, 0.5, 'Cost')"
            ]
          },
          "metadata": {},
          "execution_count": 21
        },
        {
          "output_type": "display_data",
          "data": {
            "text/plain": [
              "<Figure size 640x480 with 1 Axes>"
            ],
            "image/png": "[encoded data removed]"
          },
          "metadata": {}
        }
      ]
    },
    {
      "cell_type": "code",
      "source": [],
      "metadata": {
        "id": "D_l2cNVSRukN"
      },
      "execution_count": null,
      "outputs": []
    }
  ]
}